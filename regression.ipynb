{
 "cells": [
  {
   "cell_type": "code",
   "execution_count": 5,
   "metadata": {},
   "outputs": [],
   "source": [
    "import numpy as np\n",
    "import seaborn as sns\n",
    "import pandas as pd\n",
    "from sklearn import datasets\n",
    "from sklearn.preprocessing import OneHotEncoder, StandardScaler\n",
    "from sklearn.compose import ColumnTransformer\n",
    "from sklearn.model_selection import StratifiedShuffleSplit, StratifiedKFold, cross_val_score\n",
    "from sklearn.pipeline import Pipeline\n",
    "from sklearn.metrics import mean_squared_error\n",
    "from sklearn.tree import DecisionTreeRegressor\n",
    "from sklearn.linear_model import LinearRegression\n",
    "from sklearn.ensemble import RandomForestRegressor"
   ]
  },
  {
   "cell_type": "code",
   "execution_count": 7,
   "metadata": {},
   "outputs": [],
   "source": [
    "def get_boston_data() -> pd.DataFrame:\n",
    "    # load boston boston data into pandas DataFrame\n",
    "    dt = datasets.load_boston()\n",
    "    df = pd.DataFrame(dt.data)\n",
    "    df.columns = dt.feature_names\n",
    "    df['MEDVAL'] = dt.target\n",
    "    return df, dt.DESCR\n",
    "\n",
    "boston, descr = get_boston_data()\n",
    "\n",
    "# transform CHAS from float to category\n",
    "boston['CHAS'] = boston['CHAS'].astype('category')"
   ]
  },
  {
   "cell_type": "code",
   "execution_count": 8,
   "metadata": {},
   "outputs": [],
   "source": [
    "# stratified random sample based on MEDVAL, the target variable\n",
    "def stratified_sample(df: pd.DataFrame,\n",
    "                      col: str,\n",
    "                      cats: int,\n",
    "                      n_splits: int,\n",
    "                      test_size: float) -> (pd.DataFrame, pd.DataFrame):\n",
    "    # label records according to col quintiles\n",
    "    cut_column = col + '_cut'\n",
    "    df[cut_column] = pd.qcut(df[col], 5, labels=False)\n",
    "\n",
    "    # sample according to RM quintile\n",
    "    split = StratifiedShuffleSplit(n_splits=n_splits, test_size=test_size, random_state=42)\n",
    "    for train_index, test_index in split.split(df, df[cut_column]):\n",
    "        strat_train_set = df.iloc[train_index]\n",
    "        strat_test_set = df.iloc[test_index]\n",
    "\n",
    "    # remove RM_cat column from test/training sets\n",
    "    for set_ in (strat_train_set, strat_test_set):\n",
    "        set_.drop(cut_column, axis=1, inplace=True)\n",
    "\n",
    "    return strat_train_set, strat_test_set\n",
    "\n",
    "train, test = stratified_sample(boston, 'MEDVAL', 5, 1, 0.2)\n",
    "X = train.drop('MEDVAL', axis=1)\n",
    "y = train['MEDVAL'].copy()"
   ]
  },
  {
   "cell_type": "code",
   "execution_count": 9,
   "metadata": {},
   "outputs": [],
   "source": [
    "# numeric feature pipeline\n",
    "num_pipeline = Pipeline([\n",
    "    ('std_scaler', StandardScaler())\n",
    "])\n",
    "\n",
    "# list of numeric and categorical features, respectively\n",
    "num_cols = list(X.select_dtypes(include=['float']))\n",
    "cat_cols = list(X.select_dtypes(include=['category']))\n",
    "\n",
    "pipeline = ColumnTransformer([\n",
    "    ('num', num_pipeline, num_cols),\n",
    "    ('cat', OneHotEncoder(), cat_cols)\n",
    "])\n",
    "\n",
    "X_prepared = pipeline.fit_transform(X)"
   ]
  },
  {
   "cell_type": "code",
   "execution_count": 10,
   "metadata": {},
   "outputs": [],
   "source": [
    "lin_reg = LinearRegression()\n",
    "tree_reg = DecisionTreeRegressor()\n",
    "rf_reg = RandomForestRegressor()\n",
    "\n",
    "def cv_compare(models):\n",
    "    results = []\n",
    "    for model in models:\n",
    "        scores = cross_val_score(model, X_prepared, y, scoring='neg_mean_squared_error', cv=5)\n",
    "        scores_sqrt = np.mean(np.sqrt(-scores))\n",
    "        scores_std = np.std(np.sqrt(-scores))\n",
    "        results.append([type(model), scores_sqrt, scores_std])\n",
    "    return pd.DataFrame(results, columns=['type', 'rmse', 'std'])\n",
    "\n",
    "results = cv_compare([lin_reg, tree_reg, rf_reg])"
   ]
  },
  {
   "cell_type": "code",
   "execution_count": 11,
   "metadata": {},
   "outputs": [
    {
     "data": {
      "text/html": [
       "<div>\n",
       "<style scoped>\n",
       "    .dataframe tbody tr th:only-of-type {\n",
       "        vertical-align: middle;\n",
       "    }\n",
       "\n",
       "    .dataframe tbody tr th {\n",
       "        vertical-align: top;\n",
       "    }\n",
       "\n",
       "    .dataframe thead th {\n",
       "        text-align: right;\n",
       "    }\n",
       "</style>\n",
       "<table border=\"1\" class=\"dataframe\">\n",
       "  <thead>\n",
       "    <tr style=\"text-align: right;\">\n",
       "      <th></th>\n",
       "      <th>type</th>\n",
       "      <th>rmse</th>\n",
       "      <th>std</th>\n",
       "    </tr>\n",
       "  </thead>\n",
       "  <tbody>\n",
       "    <tr>\n",
       "      <th>0</th>\n",
       "      <td>&lt;class 'sklearn.linear_model.base.LinearRegres...</td>\n",
       "      <td>4.639423</td>\n",
       "      <td>0.576759</td>\n",
       "    </tr>\n",
       "    <tr>\n",
       "      <th>1</th>\n",
       "      <td>&lt;class 'sklearn.tree.tree.DecisionTreeRegressor'&gt;</td>\n",
       "      <td>4.959310</td>\n",
       "      <td>0.934801</td>\n",
       "    </tr>\n",
       "    <tr>\n",
       "      <th>2</th>\n",
       "      <td>&lt;class 'sklearn.ensemble.forest.RandomForestRe...</td>\n",
       "      <td>3.726798</td>\n",
       "      <td>0.565071</td>\n",
       "    </tr>\n",
       "  </tbody>\n",
       "</table>\n",
       "</div>"
      ],
      "text/plain": [
       "                                                type      rmse       std\n",
       "0  <class 'sklearn.linear_model.base.LinearRegres...  4.639423  0.576759\n",
       "1  <class 'sklearn.tree.tree.DecisionTreeRegressor'>  4.959310  0.934801\n",
       "2  <class 'sklearn.ensemble.forest.RandomForestRe...  3.726798  0.565071"
      ]
     },
     "execution_count": 11,
     "metadata": {},
     "output_type": "execute_result"
    }
   ],
   "source": [
    "results"
   ]
  },
  {
   "cell_type": "code",
   "execution_count": 12,
   "metadata": {},
   "outputs": [
    {
     "data": {
      "image/png": "[encoded data removed]",
      "text/plain": [
       "<Figure size 432x288 with 1 Axes>"
      ]
     },
     "metadata": {
      "needs_background": "light"
     },
     "output_type": "display_data"
    }
   ],
   "source": [
    "ax = sns.pointplot(x=\"type\", \n",
    "                   y=\"rmse\",  \n",
    "                   ci='std',\n",
    "                   data=results.sort_values(by='rmse'), \n",
    "                   join=False)"
   ]
  },
  {
   "cell_type": "code",
   "execution_count": null,
   "metadata": {},
   "outputs": [],
   "source": []
  }
 ],
 "metadata": {
  "kernelspec": {
   "display_name": "Python 3",
   "language": "python",
   "name": "python3"
  },
  "language_info": {
   "codemirror_mode": {
    "name": "ipython",
    "version": 3
   },
   "file_extension": ".py",
   "mimetype": "text/x-python",
   "name": "python",
   "nbconvert_exporter": "python",
   "pygments_lexer": "ipython3",
   "version": "3.7.2"
  }
 },
 "nbformat": 4,
 "nbformat_minor": 2
}
